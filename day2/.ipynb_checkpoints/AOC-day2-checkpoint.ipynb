{
 "cells": [
  {
   "cell_type": "code",
   "execution_count": 83,
   "id": "e0273512",
   "metadata": {},
   "outputs": [
    {
     "name": "stdout",
     "output_type": "stream",
     "text": [
      "['input2', '.ipynb_checkpoints', 'AOC-day2.ipynb']\n"
     ]
    }
   ],
   "source": [
    "import os \n",
    "print(os.listdir())\n",
    "text_file = open(\"input2\", \"r\")\n",
    "lines = text_file.read().split('\\n')"
   ]
  },
  {
   "cell_type": "code",
   "execution_count": 84,
   "id": "ef6785e4",
   "metadata": {},
   "outputs": [],
   "source": [
    "import pandas as pd\n",
    "df = pd.DataFrame(lines, columns = ['original'])\n",
    "data= df[\"original\"].str.split(\" \", n = 1, expand = True) \n",
    "data = data[:-1]\n",
    "data.columns=[ \"action\", \"value\"]\n",
    "data['value'] = data['value'].astype(int)"
   ]
  },
  {
   "cell_type": "code",
   "execution_count": 85,
   "id": "5fd2972a",
   "metadata": {},
   "outputs": [
    {
     "name": "stdout",
     "output_type": "stream",
     "text": [
      "final answer is:  1728414\n"
     ]
    }
   ],
   "source": [
    "#part 1\n",
    "hor = 0\n",
    "dept = 0 \n",
    "aim = 0\n",
    "for index, row in data.iterrows():\n",
    "    if row['action'] == 'forward':\n",
    "        hor += row['value']\n",
    "    if row['action'] == 'down':\n",
    "        dept += row['value']\n",
    "        aim += row['value']\n",
    "    if row['action'] == 'up':\n",
    "        dept -= row['value']\n",
    "        aim -= row['value']\n",
    "print('final answer is: ', hor*dept)"
   ]
  },
  {
   "cell_type": "code",
   "execution_count": 86,
   "id": "02a01fa1",
   "metadata": {},
   "outputs": [
    {
     "name": "stdout",
     "output_type": "stream",
     "text": [
      "final answer is:  1765720035\n"
     ]
    }
   ],
   "source": [
    "#part 2 \n",
    "hor = 0\n",
    "dept = 0 \n",
    "aim = 0\n",
    "for index, row in data.iterrows():\n",
    "    if row['action'] == 'forward':\n",
    "        hor += row['value']\n",
    "        dept += aim*row['value']\n",
    "    if row['action'] == 'down':\n",
    "        aim += row['value']\n",
    "    if row['action'] == 'up':\n",
    "        aim -= row['value']\n",
    "print('final answer is: ', hor*dept)"
   ]
  }
 ],
 "metadata": {
  "kernelspec": {
   "display_name": "Python 3 (ipykernel)",
   "language": "python",
   "name": "python3"
  },
  "language_info": {
   "codemirror_mode": {
    "name": "ipython",
    "version": 3
   },
   "file_extension": ".py",
   "mimetype": "text/x-python",
   "name": "python",
   "nbconvert_exporter": "python",
   "pygments_lexer": "ipython3",
   "version": "3.9.6"
  }
 },
 "nbformat": 4,
 "nbformat_minor": 5
}
