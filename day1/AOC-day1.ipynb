{
 "cells": [
  {
   "cell_type": "code",
   "execution_count": 6,
   "id": "61dd7882",
   "metadata": {
    "scrolled": true
   },
   "outputs": [
    {
     "name": "stdout",
     "output_type": "stream",
     "text": [
      "['input', 'Untitled.ipynb', '.ipynb_checkpoints']\n"
     ]
    }
   ],
   "source": [
    "import os \n",
    "print(os.listdir())\n",
    "text_file = open(\"input\", \"r\")\n",
    "lines = text_file.read().split('\\n')"
   ]
  },
  {
   "cell_type": "code",
   "execution_count": 16,
   "id": "468d4b1b",
   "metadata": {},
   "outputs": [],
   "source": [
    "numbers = map(int, lines[:-1])\n",
    "integer_list = list(numbers)"
   ]
  },
  {
   "cell_type": "code",
   "execution_count": 22,
   "id": "2c1d58b7",
   "metadata": {},
   "outputs": [],
   "source": [
    "more_than = 0\n",
    "for counter, comp in enumerate(integer_list[:-1]):\n",
    "    if integer_list[counter+1] > comp:\n",
    "        more_than += 1"
   ]
  },
  {
   "cell_type": "code",
   "execution_count": 25,
   "id": "04db0c32",
   "metadata": {},
   "outputs": [
    {
     "name": "stdout",
     "output_type": "stream",
     "text": [
      "there are more than 1502 values above the previous one.\n"
     ]
    }
   ],
   "source": [
    "print('there are more than {} values above the previous one.'.format(more_than))"
   ]
  },
  {
   "cell_type": "code",
   "execution_count": 27,
   "id": "6771b93b",
   "metadata": {},
   "outputs": [],
   "source": []
  },
  {
   "cell_type": "code",
   "execution_count": 33,
   "id": "2f26d6f1",
   "metadata": {},
   "outputs": [],
   "source": [
    "import numpy as np\n",
    "window = []\n",
    "for i in np.arange(len(integer_list)-2):\n",
    "    window.append(integer_list[i]*integer_list[i+1]*integer_list[i+2])"
   ]
  },
  {
   "cell_type": "code",
   "execution_count": 34,
   "id": "ffcde752",
   "metadata": {},
   "outputs": [],
   "source": [
    "more_than = 0\n",
    "for counter, comp in enumerate(window[:-1]):\n",
    "    if window[counter+1] > comp:\n",
    "        more_than += 1"
   ]
  },
  {
   "cell_type": "code",
   "execution_count": 35,
   "id": "c6cf1aa4",
   "metadata": {},
   "outputs": [
    {
     "name": "stdout",
     "output_type": "stream",
     "text": [
      "1538\n"
     ]
    }
   ],
   "source": [
    "print(more_than)"
   ]
  }
 ],
 "metadata": {
  "kernelspec": {
   "display_name": "Python 3 (ipykernel)",
   "language": "python",
   "name": "python3"
  },
  "language_info": {
   "codemirror_mode": {
    "name": "ipython",
    "version": 3
   },
   "file_extension": ".py",
   "mimetype": "text/x-python",
   "name": "python",
   "nbconvert_exporter": "python",
   "pygments_lexer": "ipython3",
   "version": "3.9.6"
  }
 },
 "nbformat": 4,
 "nbformat_minor": 5
}
